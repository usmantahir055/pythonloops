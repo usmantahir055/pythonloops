{
 "cells": [
  {
   "cell_type": "markdown",
   "id": "cc368e98-eefd-466a-bb54-1f96acc854fd",
   "metadata": {},
   "source": [
    "#muhammad usman tahir\n",
    "#sp25-bbd-100"
   ]
  },
  {
   "cell_type": "code",
   "execution_count": 1,
   "id": "b33ab86f-04c0-4546-92c4-4c3055731280",
   "metadata": {},
   "outputs": [
    {
     "name": "stdout",
     "output_type": "stream",
     "text": [
      "2\n",
      "4\n",
      "6\n",
      "8\n",
      "10\n",
      "12\n",
      "14\n",
      "16\n",
      "18\n",
      "20\n"
     ]
    }
   ],
   "source": [
    "#Question no 1. Print all even numbers from 2 to 20\n",
    "for num in range(2, 21, 2):\n",
    "    print(num)"
   ]
  },
  {
   "cell_type": "code",
   "execution_count": 2,
   "id": "1550a896-1779-4513-bb91-ac89c70fdf1a",
   "metadata": {},
   "outputs": [
    {
     "name": "stdout",
     "output_type": "stream",
     "text": [
      "ALICE\n",
      "BOB\n",
      "CHARLIE\n",
      "DAVID\n"
     ]
    }
   ],
   "source": [
    "#Question no 2. Print each name in uppercase\n",
    "names = [\"Alice\", \"Bob\", \"Charlie\", \"David\"]\n",
    "for name in names:\n",
    "    print(name.upper())"
   ]
  },
  {
   "cell_type": "code",
   "execution_count": 3,
   "id": "38b59dc8-cef3-4cf3-bc1e-612a45010264",
   "metadata": {},
   "outputs": [
    {
     "name": "stdout",
     "output_type": "stream",
     "text": [
      "10\n",
      "9\n",
      "8\n",
      "7\n",
      "6\n",
      "5\n",
      "4\n",
      "3\n",
      "2\n",
      "1\n"
     ]
    }
   ],
   "source": [
    "\n",
    "#QUESTION 3. Print numbers from 10 to 1 in reverse order\n",
    "for num in range(10, 0, -1):\n",
    "    print(num)"
   ]
  },
  {
   "cell_type": "code",
   "execution_count": 4,
   "id": "b4ee1197-3690-42f7-9d10-8a2104794002",
   "metadata": {},
   "outputs": [
    {
     "name": "stdout",
     "output_type": "stream",
     "text": [
      "3\n",
      "9\n",
      "12\n",
      "15\n",
      "18\n"
     ]
    }
   ],
   "source": [
    "#QUESTION 4. Print numbers that are divisible by 3\n",
    "numbers = [3, 7, 9, 12, 15, 18, 20, 25]\n",
    "for num in numbers:\n",
    "    if num % 3 == 0:\n",
    "        print(num)"
   ]
  },
  {
   "cell_type": "code",
   "execution_count": 5,
   "id": "084f1807-1346-47db-b142-1b285b40a5e2",
   "metadata": {},
   "outputs": [
    {
     "name": "stdout",
     "output_type": "stream",
     "text": [
      "1\n",
      "4\n",
      "9\n",
      "16\n",
      "25\n",
      "36\n",
      "49\n",
      "64\n",
      "81\n",
      "100\n"
     ]
    }
   ],
   "source": [
    "#QUESTION 5. Print squares of numbers from 1 to 10\n",
    "for num in range(1, 11):\n",
    "    print(num ** 2)"
   ]
  },
  {
   "cell_type": "code",
   "execution_count": 6,
   "id": "f4b6b688-fdda-4767-9efc-dd2fa0097c4c",
   "metadata": {},
   "outputs": [
    {
     "name": "stdout",
     "output_type": "stream",
     "text": [
      "[32.0, 50.0, 68.0, 86.0, 104.0]\n"
     ]
    }
   ],
   "source": [
    "#QUESTION 6. Convert temperatures from Celsius to Fahrenheit\n",
    "celsius_temps = [0, 10, 20, 30, 40]\n",
    "fahrenheit_temps = [(temp * 9/5) + 32 for temp in celsius_temps]\n",
    "print(fahrenheit_temps)"
   ]
  },
  {
   "cell_type": "code",
   "execution_count": 7,
   "id": "65ebbfbc-f10f-4c19-bf95-416cc3e50f66",
   "metadata": {},
   "outputs": [
    {
     "name": "stdout",
     "output_type": "stream",
     "text": [
      "5 x 1 = 5\n",
      "5 x 2 = 10\n",
      "5 x 3 = 15\n",
      "5 x 4 = 20\n",
      "5 x 5 = 25\n",
      "5 x 6 = 30\n",
      "5 x 7 = 35\n",
      "5 x 8 = 40\n",
      "5 x 9 = 45\n",
      "5 x 10 = 50\n"
     ]
    }
   ],
   "source": [
    "#QUESTION 7. Print multiplication table of 5\n",
    "for num in range(1, 11):\n",
    "    print(f\"5 x {num} = {5 * num}\")"
   ]
  },
  {
   "cell_type": "code",
   "execution_count": 8,
   "id": "b6c105b5-eacd-4d1d-8872-b46b252b3144",
   "metadata": {},
   "outputs": [
    {
     "name": "stdout",
     "output_type": "stream",
     "text": [
      "Sum: 15\n"
     ]
    }
   ],
   "source": [
    "# 8. Find the sum of all numbers in a list\n",
    "num_list = [1, 2, 3, 4, 5]\n",
    "total = 0\n",
    "for num in num_list:\n",
    "    total += num\n",
    "print(\"Sum:\", total)\n"
   ]
  },
  {
   "cell_type": "code",
   "execution_count": 9,
   "id": "e1f39841-5b3d-4923-ac7e-1cce0b033195",
   "metadata": {},
   "outputs": [
    {
     "name": "stdout",
     "output_type": "stream",
     "text": [
      "P\n",
      "y\n",
      "t\n",
      "h\n",
      "o\n",
      "n\n"
     ]
    }
   ],
   "source": [
    "#QUESTION 9. Iterate through a string and print each character separately\n",
    "word = \"Python\"\n",
    "for char in word:\n",
    "    print(char)"
   ]
  },
  {
   "cell_type": "code",
   "execution_count": 10,
   "id": "574b4839-4151-4bd8-8196-ad4e9f5cec00",
   "metadata": {},
   "outputs": [
    {
     "name": "stdout",
     "output_type": "stream",
     "text": [
      "banana\n",
      "cherry\n",
      "elephant\n"
     ]
    }
   ],
   "source": [
    "#QUESTION 10. Print words with more than 5 letters\n",
    "words = [\"apple\", \"banana\", \"cherry\", \"date\", \"elephant\"]\n",
    "for word in words:\n",
    "    if len(word) > 5:\n",
    "        print(word)\n"
   ]
  },
  {
   "cell_type": "code",
   "execution_count": null,
   "id": "652ea04a-5845-4fc7-a690-cd7d179258f5",
   "metadata": {},
   "outputs": [],
   "source": []
  }
 ],
 "metadata": {
  "kernelspec": {
   "display_name": "Python 3 (ipykernel)",
   "language": "python",
   "name": "python3"
  },
  "language_info": {
   "codemirror_mode": {
    "name": "ipython",
    "version": 3
   },
   "file_extension": ".py",
   "mimetype": "text/x-python",
   "name": "python",
   "nbconvert_exporter": "python",
   "pygments_lexer": "ipython3",
   "version": "3.12.7"
  }
 },
 "nbformat": 4,
 "nbformat_minor": 5
}
